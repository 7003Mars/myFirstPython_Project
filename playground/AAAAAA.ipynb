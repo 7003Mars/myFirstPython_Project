{
 "cells": [
  {
   "cell_type": "code",
   "execution_count": 12,
   "metadata": {},
   "outputs": [
    {
     "name": "stdout",
     "output_type": "stream",
     "text": [
      "Hi\n",
      "There\n",
      "Hi\n",
      "There\n",
      "Hi\n",
      "There\n",
      "\n"
     ]
    }
   ],
   "source": [
    "# Non returning Statements\n",
    "print('Hi')\n",
    "print('There')\n",
    "(lambda: print('Hi') or print('There'))()\n",
    "print(f\"{print('Hi')}{print('There')}\" and '')\n"
   ]
  },
  {
   "cell_type": "code",
   "execution_count": 49,
   "metadata": {},
   "outputs": [
    {
     "ename": "TypeError",
     "evalue": "setattr expected 3 arguments, got 2",
     "output_type": "error",
     "traceback": [
      "\u001b[0;31m---------------------------------------------------------------------------\u001b[0m",
      "\u001b[0;31mTypeError\u001b[0m                                 Traceback (most recent call last)",
      "Input \u001b[0;32mIn [49]\u001b[0m, in \u001b[0;36m<module>\u001b[0;34m\u001b[0m\n\u001b[1;32m      3\u001b[0m x \u001b[38;5;241m=\u001b[39m x \u001b[38;5;241m+\u001b[39m \u001b[38;5;241m1\u001b[39m\n\u001b[1;32m      4\u001b[0m (\u001b[38;5;28;01mlambda\u001b[39;00m: \u001b[38;5;28mglobals\u001b[39m()\u001b[38;5;241m.\u001b[39m\u001b[38;5;21m__setitem__\u001b[39m(\u001b[38;5;124m'\u001b[39m\u001b[38;5;124my\u001b[39m\u001b[38;5;124m'\u001b[39m, \u001b[38;5;241m1\u001b[39m) \u001b[38;5;129;01mor\u001b[39;00m \u001b[38;5;28mglobals\u001b[39m()\u001b[38;5;241m.\u001b[39m\u001b[38;5;21m__setitem__\u001b[39m(\u001b[38;5;124m'\u001b[39m\u001b[38;5;124my\u001b[39m\u001b[38;5;124m'\u001b[39m, \u001b[38;5;28mglobals\u001b[39m()[\u001b[38;5;124m'\u001b[39m\u001b[38;5;124my\u001b[39m\u001b[38;5;124m'\u001b[39m]\u001b[38;5;241m+\u001b[39m\u001b[38;5;241m1\u001b[39m))()\n\u001b[0;32m----> 5\u001b[0m \u001b[43m(\u001b[49m\u001b[38;5;28;43;01mlambda\u001b[39;49;00m\u001b[43m:\u001b[49m\u001b[43m \u001b[49m\u001b[38;5;28;43mglobals\u001b[39;49m\u001b[43m(\u001b[49m\u001b[43m)\u001b[49m\u001b[38;5;241;43m.\u001b[39;49m\u001b[38;5;21;43m__setitem__\u001b[39;49m\u001b[43m(\u001b[49m\u001b[38;5;124;43m'\u001b[39;49m\u001b[38;5;124;43mz\u001b[39;49m\u001b[38;5;124;43m'\u001b[39;49m\u001b[43m,\u001b[49m\u001b[43m \u001b[49m\u001b[38;5;241;43m1\u001b[39;49m\u001b[43m)\u001b[49m\u001b[43m \u001b[49m\u001b[38;5;129;43;01mor\u001b[39;49;00m\u001b[43m \u001b[49m\u001b[38;5;28;43msetattr\u001b[39;49m\u001b[43m(\u001b[49m\u001b[43mz\u001b[49m\u001b[43m,\u001b[49m\u001b[43m \u001b[49m\u001b[43mz\u001b[49m\u001b[38;5;241;43m+\u001b[39;49m\u001b[38;5;241;43m1\u001b[39;49m\u001b[43m)\u001b[49m\u001b[43m)\u001b[49m\u001b[43m(\u001b[49m\u001b[43m)\u001b[49m\n\u001b[1;32m      6\u001b[0m \u001b[38;5;28mprint\u001b[39m(x, y)\n",
      "Input \u001b[0;32mIn [49]\u001b[0m, in \u001b[0;36m<lambda>\u001b[0;34m()\u001b[0m\n\u001b[1;32m      3\u001b[0m x \u001b[38;5;241m=\u001b[39m x \u001b[38;5;241m+\u001b[39m \u001b[38;5;241m1\u001b[39m\n\u001b[1;32m      4\u001b[0m (\u001b[38;5;28;01mlambda\u001b[39;00m: \u001b[38;5;28mglobals\u001b[39m()\u001b[38;5;241m.\u001b[39m\u001b[38;5;21m__setitem__\u001b[39m(\u001b[38;5;124m'\u001b[39m\u001b[38;5;124my\u001b[39m\u001b[38;5;124m'\u001b[39m, \u001b[38;5;241m1\u001b[39m) \u001b[38;5;129;01mor\u001b[39;00m \u001b[38;5;28mglobals\u001b[39m()\u001b[38;5;241m.\u001b[39m\u001b[38;5;21m__setitem__\u001b[39m(\u001b[38;5;124m'\u001b[39m\u001b[38;5;124my\u001b[39m\u001b[38;5;124m'\u001b[39m, \u001b[38;5;28mglobals\u001b[39m()[\u001b[38;5;124m'\u001b[39m\u001b[38;5;124my\u001b[39m\u001b[38;5;124m'\u001b[39m]\u001b[38;5;241m+\u001b[39m\u001b[38;5;241m1\u001b[39m))()\n\u001b[0;32m----> 5\u001b[0m (\u001b[38;5;28;01mlambda\u001b[39;00m: \u001b[38;5;28mglobals\u001b[39m()\u001b[38;5;241m.\u001b[39m\u001b[38;5;21m__setitem__\u001b[39m(\u001b[38;5;124m'\u001b[39m\u001b[38;5;124mz\u001b[39m\u001b[38;5;124m'\u001b[39m, \u001b[38;5;241m1\u001b[39m) \u001b[38;5;129;01mor\u001b[39;00m \u001b[38;5;28;43msetattr\u001b[39;49m\u001b[43m(\u001b[49m\u001b[43mz\u001b[49m\u001b[43m,\u001b[49m\u001b[43m \u001b[49m\u001b[43mz\u001b[49m\u001b[38;5;241;43m+\u001b[39;49m\u001b[38;5;241;43m1\u001b[39;49m\u001b[43m)\u001b[49m)()\n\u001b[1;32m      6\u001b[0m \u001b[38;5;28mprint\u001b[39m(x, y)\n",
      "\u001b[0;31mTypeError\u001b[0m: setattr expected 3 arguments, got 2"
     ]
    }
   ],
   "source": [
    "# Vars\n",
    "x = 1\n",
    "x = x + 1\n",
    "(lambda: globals().__setitem__('y', 1) or globals().__setitem__('y', globals()['y']+1))()\n",
    "print(x, y)"
   ]
  },
  {
   "cell_type": "code",
   "execution_count": 13,
   "metadata": {},
   "outputs": [
    {
     "name": "stdout",
     "output_type": "stream",
     "text": [
      "uhoh\n",
      "ohuh\n",
      "uhoh\n",
      "ohuh\n"
     ]
    },
    {
     "data": {
      "text/plain": [
       "0"
      ]
     },
     "execution_count": 13,
     "metadata": {},
     "output_type": "execute_result"
    }
   ],
   "source": [
    "# Returning\n",
    "def f():\n",
    "    print('uhoh')\n",
    "    return 1\n",
    "def g():\n",
    "    print('ohuh')\n",
    "    return 2\n",
    "f()\n",
    "g()\n",
    "(lambda: (f() and 0) or (g() and 0))()"
   ]
  },
  {
   "cell_type": "code",
   "execution_count": 19,
   "metadata": {},
   "outputs": [
    {
     "name": "stdout",
     "output_type": "stream",
     "text": [
      "3\n"
     ]
    },
    {
     "data": {
      "text/plain": [
       "3"
      ]
     },
     "execution_count": 19,
     "metadata": {},
     "output_type": "execute_result"
    }
   ],
   "source": [
    "# Functions\n",
    "def foo(x):\n",
    "    x = x + 1\n",
    "    return x\n",
    "\n",
    "l = (lambda x: locals().__setitem__('x', x+1) or locals()[x])\n",
    "print(foo(2))\n",
    "l((2))"
   ]
  },
  {
   "cell_type": "code",
   "execution_count": 30,
   "metadata": {},
   "outputs": [
    {
     "name": "stdout",
     "output_type": "stream",
     "text": [
      "1\n",
      "1\n"
     ]
    }
   ],
   "source": [
    "# Classes\n",
    "class A:\n",
    "    def __init__(self):\n",
    "        self.x = 1\n",
    "    def f(self):\n",
    "        return self.x\n",
    "\n",
    "# Can be combined\n",
    "cls = type('B', (object,), {'__init__': lambda self: setattr(self, 'x', 1), 'f': lambda self: self.x})\n",
    "globals().__setitem__('B', cls)\n",
    "# Combined:\n",
    "(lambda: globals().__setitem__('B', type('B', (object,), {'__init__': lambda self: setattr(self, 'x', 1), 'f': lambda self: self.x})))()\n",
    "\n",
    "print(A().f())\n",
    "print(B().f())"
   ]
  },
  {
   "cell_type": "code",
   "execution_count": 39,
   "metadata": {},
   "outputs": [
    {
     "name": "stdout",
     "output_type": "stream",
     "text": [
      "True\n",
      "Exit\n",
      "True\n",
      "Exit\n",
      "\n",
      "\n",
      "hi\n",
      "Exit 2\n",
      "hi\n",
      "hi\n",
      "Exit 2\n"
     ]
    }
   ],
   "source": [
    "# Statement\n",
    "if True:\n",
    "    print('True')\n",
    "else:\n",
    "    print('False')\n",
    "print('Exit')\n",
    "(lambda: ((print('True') if True else print('False')) and 0) or print('Exit'))()\n",
    "# If/else/elif\n",
    "print('\\n')\n",
    "x = 2\n",
    "if x > 1:\n",
    "    print('hi')\n",
    "elif x == 1:\n",
    "    print('there')\n",
    "else:\n",
    "    print('bye')\n",
    "print('Exit 2')\n",
    "(lambda x: (print('hi')) if x > 1 else ((print('there')) if x == 1 else (print('bye'))))(x)\n",
    "# Combined\n",
    "(lambda x:(((print('hi')) if x > 1 else ((print('there')) if x == 1 else (print('bye')))) and 0) or print('Exit 2'))(2)"
   ]
  },
  {
   "cell_type": "code",
   "execution_count": 45,
   "metadata": {},
   "outputs": [
    {
     "name": "stdout",
     "output_type": "stream",
     "text": [
      "0\n",
      "0\n",
      "1\n",
      "1\n",
      "2\n",
      "4\n",
      "\n",
      "\n",
      "0\n",
      "0\n",
      "1\n",
      "1\n",
      "2\n",
      "4\n",
      "None\n",
      "a\n"
     ]
    }
   ],
   "source": [
    "# for\n",
    "for i in range(3):\n",
    "    print(i)\n",
    "    print(i**2)\n",
    "print('\\n')\n",
    "(lambda: [(print(i) or print(i**2)) for i in range(3)] and 0)()"
   ]
  },
  {
   "cell_type": "code",
   "execution_count": 48,
   "metadata": {},
   "outputs": [
    {
     "name": "stdout",
     "output_type": "stream",
     "text": [
      "1\n"
     ]
    }
   ],
   "source": [
    "# while\n",
    "x = 0\n",
    "while x<5:\n",
    "    print(x)\n",
    "    x = x + 1\n",
    "print('\\n')\n",
    "exp = (lambda: (print(globals()['y']) or globals().__setitem__('y', y+1)))\n",
    "(lambda: exp() if )\n"
   ]
  },
  {
   "cell_type": "code",
   "execution_count": null,
   "metadata": {},
   "outputs": [],
   "source": [
    "import PIL\n",
    "from PIL.Image import Image\n",
    "Image"
   ]
  }
 ],
 "metadata": {
  "interpreter": {
   "hash": "165f7f9cbf12ffbaa99dca0e8434d50768bdb47fd26c415b7953f31f2ab3a4d7"
  },
  "kernelspec": {
   "display_name": "Python 3.9.0 64-bit ('env': venv)",
   "language": "python",
   "name": "python3"
  },
  "language_info": {
   "codemirror_mode": {
    "name": "ipython",
    "version": 3
   },
   "file_extension": ".py",
   "mimetype": "text/x-python",
   "name": "python",
   "nbconvert_exporter": "python",
   "pygments_lexer": "ipython3",
   "version": "3.9.0"
  },
  "orig_nbformat": 4
 },
 "nbformat": 4,
 "nbformat_minor": 2
}
